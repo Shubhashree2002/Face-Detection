{
 "cells": [
  {
   "cell_type": "code",
   "execution_count": 1,
   "id": "8dfb9996",
   "metadata": {},
   "outputs": [
    {
     "name": "stdout",
     "output_type": "stream",
     "text": [
      "END OF PROGRAM\n"
     ]
    }
   ],
   "source": [
    "import cv2\n",
    "\n",
    "from random import randrange as r\n",
    "\n",
    "trainedData=cv2.CascadeClassifier('face.xml')\n",
    "\n",
    "#start the webcam\n",
    "webcam=cv2.VideoCapture(0)\n",
    "\n",
    "while True:\n",
    "    \n",
    "    success,frame=webcam.read()\n",
    "\n",
    "    grayimg=cv2.cvtColor(frame,cv2.COLOR_BGR2GRAY)\n",
    "\n",
    "    faceCoordinates=trainedData.detectMultiScale(grayimg)\n",
    "\n",
    "    for x,y,w,h in faceCoordinates:\n",
    "        cv2.rectangle(frame,(x,y),(x+w,y+h),(r(0,256),r(0,256),r(0,256)),2)\n",
    "\n",
    "    cv2.imshow('Window',frame)\n",
    "    key=cv2.waitKey(1)\n",
    "    if(key==81 or key==113):\n",
    "        break\n",
    "\n",
    "webcam.release()\n",
    "\n",
    "print('END OF PROGRAM')"
   ]
  },
  {
   "cell_type": "code",
   "execution_count": null,
   "id": "9c5f8b79",
   "metadata": {},
   "outputs": [],
   "source": []
  }
 ],
 "metadata": {
  "kernelspec": {
   "display_name": "Python 3 (ipykernel)",
   "language": "python",
   "name": "python3"
  },
  "language_info": {
   "codemirror_mode": {
    "name": "ipython",
    "version": 3
   },
   "file_extension": ".py",
   "mimetype": "text/x-python",
   "name": "python",
   "nbconvert_exporter": "python",
   "pygments_lexer": "ipython3",
   "version": "3.9.12"
  }
 },
 "nbformat": 4,
 "nbformat_minor": 5
}
